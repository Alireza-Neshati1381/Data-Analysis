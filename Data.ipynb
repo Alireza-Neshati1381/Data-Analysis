{
 "cells": [
  {
   "cell_type": "markdown",
   "id": "39b4583f",
   "metadata": {},
   "source": [
    "# Project "
   ]
  },
  {
   "cell_type": "markdown",
   "id": "56e8aa94",
   "metadata": {},
   "source": [
    "## Part 1"
   ]
  },
  {
   "cell_type": "markdown",
   "id": "b27363b5",
   "metadata": {},
   "source": [
    "First of all we should install **yfinance library** and import all libraries those we need."
   ]
  },
  {
   "cell_type": "code",
   "execution_count": null,
   "id": "f4dee26d",
   "metadata": {
    "scrolled": true
   },
   "outputs": [],
   "source": [
    "!pip install yfinance"
   ]
  },
  {
   "cell_type": "code",
   "execution_count": null,
   "id": "fecd9850",
   "metadata": {},
   "outputs": [],
   "source": [
    "import yfinance as yf\n",
    "import pandas as pd\n",
    "import matplotlib.pyplot as plt"
   ]
  },
  {
   "cell_type": "markdown",
   "id": "4ad679fe",
   "metadata": {},
   "source": [
    "**1.** Taking **Gold** & **Oil** data from Yahoo Finance."
   ]
  },
  {
   "cell_type": "code",
   "execution_count": null,
   "id": "41e23851",
   "metadata": {
    "scrolled": true
   },
   "outputs": [],
   "source": [
    "symbol1 = \"CL=F\"\n",
    "symbol2 = \"GC=F\"\n",
    "end_date = \"2022-12-31\"\n",
    "start_date = pd.to_datetime(end_date) - pd.DateOffset(years=15) # I use this code to take the data for 15 years befor 2023.\n",
    "\n",
    "oil = yf.download(symbol1, start=start_date, end=end_date)\n",
    "gold = yf.download(symbol2, start=start_date, end=end_date)\n",
    "\n",
    "\n",
    "oil.to_csv(\"oil_data.csv\")\n",
    "gold.to_csv(\"gold_data.csv\")\n",
    "\n",
    "\n",
    "print(\"Oil data:\")\n",
    "print(oil)\n",
    "print(\"\\n\")\n",
    "print(\"gold data:\")\n",
    "print(gold)"
   ]
  },
  {
   "cell_type": "markdown",
   "id": "828fe92e",
   "metadata": {},
   "source": [
    "**2.** Start **sampling** & **matching** data."
   ]
  },
  {
   "cell_type": "markdown",
   "id": "f7556cfc",
   "metadata": {},
   "source": [
    "* We should find **missing data**."
   ]
  },
  {
   "cell_type": "code",
   "execution_count": null,
   "id": "844a0f86",
   "metadata": {
    "scrolled": true
   },
   "outputs": [],
   "source": [
    "# To know numbers of missing data\n",
    "oil_missing_values = oil.isna().sum()\n",
    "gold_missing_values = gold.isna().sum()\n",
    "\n",
    "print(oil_missing_values)\n",
    "print(gold_missing_values)"
   ]
  },
  {
   "cell_type": "markdown",
   "id": "2d64a97e",
   "metadata": {},
   "source": [
    "* Now I want to **resample** data by using resample method. As you can see we don't have missing values but to analyse the data in high accuracy, I want to resapling data."
   ]
  },
  {
   "cell_type": "code",
   "execution_count": null,
   "id": "c8850aab",
   "metadata": {
    "scrolled": true
   },
   "outputs": [],
   "source": [
    "# Using resample method for rasampling the data for weekly frequncy.\n",
    "gold_weekly_data = gold.resample(\"W\").mean()\n",
    "common_index = pd.date_range(start=start_date, end=end_date , freq=\"W\")\n",
    "gold_aligned_data = gold_weekly_data.reindex(common_index)\n",
    "\n",
    "\n",
    "oil_weekly_data = oil.resample(\"W\").mean()\n",
    "common_index = pd.date_range(start=start_date, end=end_date , freq=\"W\")\n",
    "oil_aligned_data = oil_weekly_data.reindex(common_index)\n",
    "\n",
    "\n",
    "oil_aligned_missing_values = oil_aligned_data.isna().sum()\n",
    "gold_aligned_missing_values = gold_aligned_data.isna().sum()\n",
    "\n",
    "\n",
    "print(oil_aligned_missing_values)\n",
    "print(gold_aligned_missing_values)"
   ]
  },
  {
   "cell_type": "code",
   "execution_count": null,
   "id": "a1f9f762",
   "metadata": {
    "scrolled": true
   },
   "outputs": [],
   "source": [
    "oil_aligned_data.to_csv(\"oil_aligned_data.csv\")\n",
    "gold_aligned_data.to_csv(\"gold_aligned_data.csv\")\n",
    "\n",
    "\n",
    "\n",
    "print(\"Oil aligned data: \")\n",
    "print(oil_aligned_data)\n",
    "print(\"\\n\")\n",
    "print(\"Gold aligned data: \")\n",
    "print(gold_aligned_data)"
   ]
  },
  {
   "cell_type": "markdown",
   "id": "391f0020",
   "metadata": {},
   "source": [
    "* Now I want to **normalize** the data. As you can see, I use **Z-score nomalization** for normalizing data."
   ]
  },
  {
   "cell_type": "code",
   "execution_count": null,
   "id": "c2c192c5",
   "metadata": {
    "scrolled": true
   },
   "outputs": [],
   "source": [
    "# I defined normalization function to normalize gold and oil data.\n",
    "def normalization(df): \n",
    "    df_norm = (df - df.mean())/df.std()\n",
    "    return df_norm\n",
    "\n",
    "\n",
    "gold_normalized_data = normalization(gold_aligned_data)\n",
    "oil_normalized_data = normalization(oil_aligned_data)\n",
    "\n",
    "print(\"Oil normalized data: \")\n",
    "print(oil_normalized_data.describe())\n",
    "print(\"\\n\")\n",
    "print(\"Gold normalized data: \")\n",
    "print(gold_normalized_data.describe())"
   ]
  },
  {
   "cell_type": "markdown",
   "id": "59e4aaec",
   "metadata": {},
   "source": [
    "* Now I want to convert data to **stationary series**. We have different ways to do that but I choose difference transformation because I want to remove **trends** and other **patterns** that vary over time. As you can see below of this cell I ploted all stationary series column to define the effect of converting original data to stationary series. "
   ]
  },
  {
   "cell_type": "code",
   "execution_count": null,
   "id": "23c87190",
   "metadata": {
    "scrolled": true
   },
   "outputs": [],
   "source": [
    "# Converting aligned data to stationary data.\n",
    "oil_stationary_series = oil_aligned_data.diff().dropna()\n",
    "gold_stationary_series = gold_aligned_data.diff().dropna()\n",
    "\n",
    "# To making it easier to read i use for loop for printing and plotting here.\n",
    "print(\"Oil:\")\n",
    "for column in oil_stationary_series.columns:\n",
    "    print(oil_stationary_series[f\"{column}\"].describe())\n",
    "\n",
    "\n",
    "print(\"\\n\")    \n",
    "print(\"Gold:\")\n",
    "for column in gold_stationary_series.columns:\n",
    "    print(gold_stationary_series[f\"{column}\"].describe())\n",
    "    \n",
    "\n",
    "for column in oil_stationary_series.columns:  \n",
    "    plt.style.use(\"dark_background\")\n",
    "    plt.figure(figsize=(16,9), dpi=500)\n",
    "    plt.title(f\"{column} of oil\", fontsize=20, fontweight='bold')\n",
    "    plt.xlabel(\"Date\", fontsize=12)\n",
    "    plt.ylabel(\"Price\", fontsize=12)\n",
    "    plt.grid(color = \"white\", linestyle = '--', linewidth = 0.5)\n",
    "    oil_stationary_series[f\"{column}\"].plot(linewidth = 1)\n",
    "\n",
    "  \n",
    "for column in gold_stationary_series.columns: \n",
    "    plt.style.use(\"dark_background\")\n",
    "    plt.figure(figsize=(16,9), dpi=500)\n",
    "    plt.title(f\"{column} of gold\", fontsize=20, fontweight='bold')\n",
    "    plt.xlabel(\"Date\", fontsize=12)\n",
    "    plt.ylabel(\"Price\", fontsize=12)\n",
    "    plt.grid(color = \"white\", linestyle = '--', linewidth = 0.5)\n",
    "    gold_stationary_series[f\"{column}\"].plot(linewidth = 1)"
   ]
  },
  {
   "cell_type": "markdown",
   "id": "1c67712a",
   "metadata": {},
   "source": [
    "3. **EDA**"
   ]
  },
  {
   "cell_type": "markdown",
   "id": "d0c31bd1",
   "metadata": {},
   "source": [
    "* For the first part, we should plot all our data for visualization."
   ]
  },
  {
   "cell_type": "code",
   "execution_count": null,
   "id": "20246968",
   "metadata": {
    "scrolled": true
   },
   "outputs": [],
   "source": [
    "# Again I use for loop for multiple plotting.\n",
    "for column in oil_aligned_data.columns:  \n",
    "    plt.style.use(\"dark_background\")\n",
    "    plt.figure(figsize=(16,9), dpi=500)\n",
    "    plt.title(f\"{column} of oil\", fontsize=20, fontweight='bold')\n",
    "    plt.xlabel(\"Date\", fontsize=12)\n",
    "    plt.ylabel(\"Price\", fontsize=12)\n",
    "    plt.grid(color = \"white\", linestyle = '--', linewidth = 0.5)\n",
    "    oil_aligned_data[f\"{column}\"].plot(linewidth = 1)\n",
    "\n",
    "  \n",
    "for column in gold_aligned_data.columns: \n",
    "    plt.style.use(\"dark_background\")\n",
    "    plt.figure(figsize=(16,9), dpi=500)\n",
    "    plt.title(f\"{column} of gold\", fontsize=20, fontweight='bold')\n",
    "    plt.xlabel(\"Date\", fontsize=12)\n",
    "    plt.ylabel(\"Price\", fontsize=12)\n",
    "    plt.grid(color=\"white\", linestyle='--', linewidth=0.5)\n",
    "    gold_aligned_data[f\"{column}\"].plot(linewidth=1)"
   ]
  },
  {
   "cell_type": "markdown",
   "id": "48754e94",
   "metadata": {},
   "source": [
    "* For second part we should use **Descriptive Statistics** to understand the distribution of the data. As you can see I use pivot table method to tabled each descriptive statistic."
   ]
  },
  {
   "cell_type": "code",
   "execution_count": null,
   "id": "411339e8",
   "metadata": {},
   "outputs": [],
   "source": [
    "# Defining aggregation function.\n",
    "Descriptive_Statistics = [\"mean\",\"median\",\"sum\",\"max\",\"min\",\"std\",\"var\"]\n",
    "\n",
    "# Writing for loop and using pivot_table method.\n",
    "print(\"Descriptive Statistics of oil\")\n",
    "print(\"\\n\")\n",
    "for func in Descriptive_Statistics:\n",
    "    oil_pivot_table = oil_aligned_data.pivot_table(values=oil_aligned_data.columns, index=oil_aligned_data.index.year, aggfunc=func)\n",
    "    print(f\"{func}:\")\n",
    "    print(oil_pivot_table)\n",
    "    print(\"\\n\")"
   ]
  },
  {
   "cell_type": "code",
   "execution_count": null,
   "id": "72e52f3f",
   "metadata": {},
   "outputs": [],
   "source": [
    "# Defining aggregation function.\n",
    "Descriptive_Statistics = [\"mean\",\"median\",\"sum\",\"max\",\"min\",\"std\",\"var\"]\n",
    "  \n",
    "# Writing for loop and using pivot_table method.\n",
    "print(\"Descriptive Statistics of gold\")\n",
    "print(\"\\n\")\n",
    "for func in Descriptive_Statistics:\n",
    "    gold_pivot_table = gold_aligned_data.pivot_table(values=gold_aligned_data.columns, index=gold_aligned_data.index.year, aggfunc=func)\n",
    "    print(f\"{func}:\")\n",
    "    print(gold_pivot_table)\n",
    "    print(\"\\n\")"
   ]
  },
  {
   "cell_type": "markdown",
   "id": "71ee42e7",
   "metadata": {},
   "source": [
    "* **Correlation & Causality**. For this part we should find correlation and causality between to variables."
   ]
  },
  {
   "cell_type": "code",
   "execution_count": null,
   "id": "882b6a1e",
   "metadata": {},
   "outputs": [],
   "source": [
    "# I defined empty list to stop the for loop to calculating repetitious answer.\n",
    "L = []\n",
    "for column1 in oil_aligned_data.columns:\n",
    "    for column2 in oil_aligned_data.columns:\n",
    "        L.append(column1)\n",
    "        if column2 in L:\n",
    "            pass\n",
    "        else:\n",
    "            correlation = oil_aligned_data[f\"{column1}\"].corr(oil_aligned_data[f\"{column2}\"])\n",
    "            print(f\"Correlation between {column1} and {column2}:\", correlation)"
   ]
  },
  {
   "cell_type": "code",
   "execution_count": null,
   "id": "6fa25a46",
   "metadata": {},
   "outputs": [],
   "source": [
    "# I defined empty list to stop the for loop to calculating repetitious answer.\n",
    "L = []\n",
    "for column1 in gold_aligned_data.columns:\n",
    "    for column2 in gold_aligned_data.columns:\n",
    "        L.append(column1)\n",
    "        if column2 in L:\n",
    "            pass\n",
    "        else:\n",
    "            correlation = gold_aligned_data[f\"{column1}\"].corr(gold_aligned_data[f\"{column2}\"])\n",
    "            print(f\"Correlation between {column1} and {column2}:\", correlation)"
   ]
  },
  {
   "cell_type": "markdown",
   "id": "cc4be9fb",
   "metadata": {},
   "source": [
    "4. Trend **analysis & seasonality**"
   ]
  },
  {
   "cell_type": "markdown",
   "id": "58f9d579",
   "metadata": {},
   "source": [
    "* In this part I want to calculate **moving average of 30-days** on **aligned data**. As you know i resampled data from daily frequency to weekly frequency, so we should calculate moving average 4-weeks. After that I want to plot it with aligned data to find **trends** and any **patterns** if they exist."
   ]
  },
  {
   "cell_type": "code",
   "execution_count": null,
   "id": "0aebdd7e",
   "metadata": {
    "scrolled": true
   },
   "outputs": [],
   "source": [
    "# Calculate the moving average of the resampled data over a 4-week period.\n",
    "# As you can see I defined function to calculating moving average for every columns of data.\n",
    "def MV_calculater(df):\n",
    "    new_df = df.copy()\n",
    "    for column in df.columns:\n",
    "        new_df[f\"{column}\"] = df[f\"{column}\"].rolling(window=4).mean()\n",
    "    return new_df\n",
    "\n",
    "\n",
    "oil_mv = MV_calculater(oil_aligned_data).dropna()\n",
    "gold_mv = MV_calculater(gold_aligned_data).dropna()\n",
    "\n",
    "\n",
    "print(\"Oil moving average 4-weeks:\")\n",
    "print(oil_mv)\n",
    "print(\"\\n\")\n",
    "print(\"Gold moving average 4-weeks:\")\n",
    "print(gold_mv)"
   ]
  },
  {
   "cell_type": "code",
   "execution_count": null,
   "id": "fd9119f4",
   "metadata": {
    "scrolled": true
   },
   "outputs": [],
   "source": [
    "# plotting moving average and original data.\n",
    "for column in oil_aligned_data.columns:  \n",
    "    plt.style.use(\"dark_background\")\n",
    "    plt.figure(figsize=(16,9), dpi=500)\n",
    "    plt.title(f\"{column} of oil\", fontsize=20, fontweight='bold')\n",
    "    plt.xlabel(\"Date\", fontsize=12)\n",
    "    plt.ylabel(\"Price\", fontsize=12)\n",
    "    plt.grid(color=\"white\", linestyle='--', linewidth=0.5)\n",
    "    oil_aligned_data[f\"{column}\"].plot(linewidth=1, label=\"Original\")\n",
    "    oil_mv[f\"{column}\"].plot(linewidth=1, label=\"4-weeks moving average\", linestyle='--', color=\"red\")\n",
    "    plt.legend()\n",
    "\n",
    "\n",
    "    \n",
    "# plotting moving average and original data.\n",
    "for column in gold_aligned_data.columns: \n",
    "    plt.style.use(\"dark_background\")\n",
    "    plt.figure(figsize=(16,9), dpi=500)\n",
    "    plt.title(f\"{column} of gold\", fontsize=20, fontweight='bold')\n",
    "    plt.xlabel(\"Date\", fontsize=12)\n",
    "    plt.ylabel(\"Price\", fontsize=12)\n",
    "    plt.grid(color=\"white\", linestyle='--', linewidth=0.5)\n",
    "    gold_aligned_data[f\"{column}\"].plot(linewidth=1, label=\"Original\")\n",
    "    gold_mv[f\"{column}\"].plot(linewidth=1, label=\"4-weeks moving average\", linestyle='--', color=\"red\")\n",
    "    plt.legend()"
   ]
  },
  {
   "cell_type": "markdown",
   "id": "a9dc05e8",
   "metadata": {},
   "source": [
    "* With below code I want to show you kind of **trend** for each column."
   ]
  },
  {
   "cell_type": "code",
   "execution_count": null,
   "id": "137a90a7",
   "metadata": {},
   "outputs": [],
   "source": [
    "print(\"Oil:\")\n",
    "for column in oil_mv.columns:    \n",
    "    if oil_mv[f\"{column}\"].iloc[-1] > oil_mv[f\"{column}\"].iloc[-2]:\n",
    "        trend = \"Upward\"\n",
    "    elif oil_mv[f\"{column}\"].iloc[-1] < oil_mv[f\"{column}\"].iloc[-2]:\n",
    "        trend = \"Downward\"\n",
    "    else:\n",
    "        trend = \"Flat\"\n",
    "    print(f\"The trend direction is {trend} for {column}.\")\n",
    "    \n",
    "print(\"\\n\")\n",
    "print(\"Gold:\")\n",
    "for column in gold_mv.columns:    \n",
    "    if gold_mv[f\"{column}\"].iloc[-1] > gold_mv[f\"{column}\"].iloc[-2]:\n",
    "        trend = \"Upward\"\n",
    "    elif gold_mv[f\"{column}\"].iloc[-1] < gold_mv[f\"{column}\"].iloc[-2]:\n",
    "        trend = \"Downward\"\n",
    "    else:\n",
    "        trend = \"Flat\"\n",
    "    print(f\"The trend direction is {trend} for {column}.\")"
   ]
  },
  {
   "cell_type": "markdown",
   "id": "7617bd0a",
   "metadata": {},
   "source": [
    "* In this part I want to doing **seasonality analysis** on **close** column of each dataframe."
   ]
  },
  {
   "cell_type": "code",
   "execution_count": null,
   "id": "b35abab1",
   "metadata": {
    "scrolled": true
   },
   "outputs": [],
   "source": [
    "# Extract the month and week from the index\n",
    "oil[\"Month\"] = oil.index.month\n",
    "oil[\"Day\"] = oil.index.day\n",
    "\n",
    "# Calculate the average closing price by month and day\n",
    "average_price = oil.groupby([\"Month\", \"Day\"])[\"Close\"].mean()\n",
    "\n",
    "# Reshape the data for plotting\n",
    "average_price = average_price.unstack()\n",
    "\n",
    "# Plot the seasonality pattern\n",
    "plt.figure(figsize=(16, 9), dpi=500)\n",
    "average_price.plot()\n",
    "plt.title(\"Seasonality Analysis of Oil Close Prices\")\n",
    "plt.xlabel(\"Day of the Month\")\n",
    "plt.ylabel(\"Average Close Price\")\n",
    "plt.legend(title=\"Month\")\n",
    "plt.show()\n"
   ]
  },
  {
   "cell_type": "code",
   "execution_count": null,
   "id": "16f10dfc",
   "metadata": {
    "scrolled": true
   },
   "outputs": [],
   "source": [
    "# Extract the month and week from the index\n",
    "gold[\"Month\"] = gold.index.month\n",
    "gold[\"Day\"] = gold.index.day\n",
    "\n",
    "# Calculate the average closing price by month and day\n",
    "average_price = gold.groupby([\"Month\", \"Day\"])[\"Close\"].mean()\n",
    "\n",
    "# Reshape the data for plotting\n",
    "average_price = average_price.unstack()\n",
    "\n",
    "# Plot the seasonality pattern\n",
    "plt.figure(figsize=(16, 9), dpi=500)\n",
    "average_price.plot()\n",
    "plt.title(\"Seasonality Analysis of Gold Close Prices\")\n",
    "plt.xlabel(\"Day of the Month\")\n",
    "plt.ylabel(\"Average Close Price\")\n",
    "plt.legend(title=\"Month\")\n",
    "plt.show()\n"
   ]
  }
 ],
 "metadata": {
  "kernelspec": {
   "display_name": "Python 3 (ipykernel)",
   "language": "python",
   "name": "python3"
  },
  "language_info": {
   "codemirror_mode": {
    "name": "ipython",
    "version": 3
   },
   "file_extension": ".py",
   "mimetype": "text/x-python",
   "name": "python",
   "nbconvert_exporter": "python",
   "pygments_lexer": "ipython3",
   "version": "3.9.13"
  }
 },
 "nbformat": 4,
 "nbformat_minor": 5
}
